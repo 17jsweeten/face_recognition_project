{
 "cells": [
  {
   "cell_type": "markdown",
   "metadata": {},
   "source": [
    "### Import videos and packages"
   ]
  },
  {
   "cell_type": "code",
   "execution_count": 21,
   "metadata": {},
   "outputs": [],
   "source": [
    "import cv2\n",
    "import numpy as np\n",
    "import pandas as pd\n",
    "import matplotlib.pyplot as plt\n",
    "\n",
    "\n",
    "import os\n",
    "import sys\n",
    "from pathlib import Path\n",
    "from PIL import Image, ImageOps\n",
    "\n",
    "# open source implementation of LBP\n",
    "from skimage.feature import local_binary_pattern"
   ]
  },
  {
   "cell_type": "code",
   "execution_count": 26,
   "metadata": {},
   "outputs": [],
   "source": [
    "PYTHONPATH = sys.path[0]\n",
    "PATHtrain = PYTHONPATH +'\\\\train'\n",
    "PATHtest = PYTHONPATH +'\\\\test'\n",
    "\n",
    "name = 'Kyle' ### Name of person who we are adding to train/test folders\n",
    "\n",
    "\n",
    "\n",
    "script_path = os.path.realpath(PYTHONPATH)\n",
    "new_abs_path = os.path.join(script_path, 'train')\n",
    "if not os.path.exists(new_abs_path):\n",
    "  os.mkdir(new_abs_path)\n",
    "\n",
    "script_path = os.path.realpath(PYTHONPATH)\n",
    "new_abs_path = os.path.join(script_path, 'test')\n",
    "if not os.path.exists(new_abs_path):\n",
    "  os.mkdir(new_abs_path)\n",
    "\n",
    "script_path = os.path.realpath(PATHtrain)\n",
    "new_abs_path = os.path.join(script_path, name)\n",
    "if not os.path.exists(new_abs_path):\n",
    "  os.mkdir(new_abs_path)\n",
    "\n",
    "script_path = os.path.realpath(PATHtest)\n",
    "new_abs_path = os.path.join(script_path, name)\n",
    "if not os.path.exists(new_abs_path):\n",
    "  os.mkdir(new_abs_path)"
   ]
  },
  {
   "cell_type": "code",
   "execution_count": 28,
   "metadata": {},
   "outputs": [
    {
     "name": "stdout",
     "output_type": "stream",
     "text": [
      "I am in success\n",
      "Complete\n"
     ]
    }
   ],
   "source": [
    "PATHtrainNEW = PATHtrain + '\\\\' + name\n",
    "PATHtestNEW = PATHtest + '\\\\' + name\n",
    "\n",
    "\n",
    "vidcap = cv2.VideoCapture(name + '.mp4') ### mp4 file needs to be name.mp4 EXAMPLE kyle.mp4\n",
    "success,image = vidcap.read()\n",
    "count = 0;\n",
    "print(\"I am in success\")\n",
    "while success:\n",
    "    # Resize image\n",
    "    scale_percent = 30 # percent of original size\n",
    "    width = int(image.shape[1] * scale_percent / 100)\n",
    "    height = int(image.shape[0] * scale_percent / 100)\n",
    "    dim = (width, height)\n",
    "    resize = cv2.resize(image, dim, interpolation = cv2.INTER_AREA)\n",
    "    # Write to folder\n",
    "    if count%5 == 0:\n",
    "        cv2.imwrite(os.path.join(PATHtestNEW,\"frame%d.png\") % count, resize)\n",
    "    else:\n",
    "        cv2.imwrite(os.path.join(PATHtrainNEW,\"frame%d.png\") % count, resize)\n",
    "    success,image = vidcap.read()\n",
    "    if cv2.waitKey(10) == 27:\n",
    "        break\n",
    "    count += 1\n",
    "print(f'Complete')"
   ]
  },
  {
   "cell_type": "markdown",
   "metadata": {},
   "source": [
    "### Break videos into frames"
   ]
  },
  {
   "cell_type": "code",
   "execution_count": null,
   "metadata": {},
   "outputs": [],
   "source": [
    "#Done"
   ]
  },
  {
   "cell_type": "markdown",
   "metadata": {},
   "source": [
    "### Reduce pixels in the frames"
   ]
  },
  {
   "cell_type": "code",
   "execution_count": null,
   "metadata": {},
   "outputs": [],
   "source": [
    "#Done"
   ]
  },
  {
   "cell_type": "markdown",
   "metadata": {},
   "source": [
    "### Split frames into test/train"
   ]
  },
  {
   "cell_type": "code",
   "execution_count": 29,
   "metadata": {},
   "outputs": [],
   "source": [
    "## I manually added this"
   ]
  },
  {
   "cell_type": "markdown",
   "metadata": {},
   "source": [
    "### Trying to load this now"
   ]
  },
  {
   "cell_type": "code",
   "execution_count": 23,
   "metadata": {},
   "outputs": [],
   "source": [
    "def compute_lbp(arr):\n",
    "    \"\"\"Find LBP of all pixels.\n",
    "    Also perform Vectorization/Normalization to get feature vector.\n",
    "    \"\"\"\n",
    "    # LBP function params\n",
    "    radius = 3\n",
    "    n_points = 8 * radius\n",
    "    n_bins = n_points + 2\n",
    "    lbp = local_binary_pattern(arr, n_points, radius, 'uniform')\n",
    "    lbp = lbp.ravel()\n",
    "    # feature_len = int(lbp.max() + 1)\n",
    "    feature = np.zeros(n_bins)\n",
    "    for i in lbp:\n",
    "        feature[int(i)] += 1\n",
    "    feature /= np.linalg.norm(feature, ord=1)\n",
    "    return feature\n",
    "\n",
    "\n",
    "def load_data(tag='train'):\n",
    "    \"\"\"Load (training/test) data from the directory.\n",
    "    Also do preprocessing of extra features. \n",
    "    \"\"\"\n",
    "    tag_dir = Path.cwd() / tag\n",
    "    vec = []\n",
    "    cat = []\n",
    "    for cat_dir in tag_dir.iterdir():\n",
    "        cat_label = cat_dir.stem\n",
    "        for img_path in cat_dir.glob('*.png'):\n",
    "            img = Image.open(img_path.as_posix())\n",
    "            if img.mode != 'L':\n",
    "                img = ImageOps.grayscale(img)\n",
    "                img.save(img_path.as_posix())\n",
    "            arr = np.array(img)\n",
    "            feature = compute_lbp(arr)\n",
    "            vec.append(feature)\n",
    "            cat.append(cat_label)\n",
    "    return vec, cat\n"
   ]
  },
  {
   "cell_type": "code",
   "execution_count": 31,
   "metadata": {},
   "outputs": [],
   "source": [
    "vec_test, cat_test = load_data('test')"
   ]
  },
  {
   "cell_type": "markdown",
   "metadata": {},
   "source": [
    "#### List categories"
   ]
  },
  {
   "cell_type": "code",
   "execution_count": 33,
   "metadata": {},
   "outputs": [
    {
     "data": {
      "text/plain": [
       "['Kyle']"
      ]
     },
     "execution_count": 33,
     "metadata": {},
     "output_type": "execute_result"
    }
   ],
   "source": [
    "# get unique categories\n",
    "labels = list(np.unique(np.array(cat_test)))\n",
    "labels"
   ]
  },
  {
   "cell_type": "code",
   "execution_count": null,
   "metadata": {},
   "outputs": [],
   "source": []
  }
 ],
 "metadata": {
  "kernelspec": {
   "display_name": "Python 3",
   "language": "python",
   "name": "python3"
  },
  "language_info": {
   "codemirror_mode": {
    "name": "ipython",
    "version": 3
   },
   "file_extension": ".py",
   "mimetype": "text/x-python",
   "name": "python",
   "nbconvert_exporter": "python",
   "pygments_lexer": "ipython3",
   "version": "3.7.3"
  }
 },
 "nbformat": 4,
 "nbformat_minor": 5
}
