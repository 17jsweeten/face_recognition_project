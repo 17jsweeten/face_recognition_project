{
 "cells": [
  {
   "cell_type": "code",
   "execution_count": 1,
   "metadata": {},
   "outputs": [],
   "source": [
    "present = ['Nathan', 'Josh', 'Dallin']"
   ]
  },
  {
   "cell_type": "code",
   "execution_count": 2,
   "metadata": {},
   "outputs": [
    {
     "name": "stdout",
     "output_type": "stream",
     "text": [
      "Sent to logan.stewart.brown@gmail.com\n",
      "Sent to jason.ishoy@gmail.com\n",
      "Sent to kmanwaring32@gmail.com\n"
     ]
    }
   ],
   "source": [
    "import pandas as pd\n",
    "import numpy as np\n",
    "import smtplib\n",
    "from email.mime.text import MIMEText\n",
    "from getpass import getpass\n",
    "\n",
    "\n",
    "From ='Instructor <instructor@example.com>'\n",
    "username ='my_username'\n",
    "smtp_server ='mail.et.byu.edu'\n",
    "password = '1234'\n",
    "\n",
    "students = pd.DataFrame({'First': ['Logan', 'Jason', 'Nathan', 'Josh', 'Kyle', 'Dallin'],\n",
    "                         'Email': ['logan.stewart.brown@gmail.com', 'jason.ishoy@gmail.com', 'hansen.nate98@gmail.com',\n",
    "                                   '17jsweeten1@gmail.com', 'kmanwaring32@gmail.com', 'dlittlewood12@gmail.com']})\n",
    "\n",
    "def sendEmail(Subject, bodyText, To, pw):\n",
    "    msg = MIMEText(bodyText)\n",
    "    msg['Subject'] = Subject\n",
    "    msg['From']    = From\n",
    "    msg['To']      = To\n",
    "    #server = smtplib.SMTP(smtp_server)\n",
    "    #server.starttls()\n",
    "    #server.login(username, password)\n",
    "    #server.send_message(msg)\n",
    "    #server.quit()\n",
    "\n",
    "    print('Sent to ' + To)\n",
    "\n",
    "Message = '''We missed you in class today. We hope you are doing well.\n",
    "\n",
    "Today we worked on the project for facial recognition.\n",
    "\n",
    "Best regards,\n",
    "\n",
    "Group 4\n",
    "Brigham Young University'''\n",
    "\n",
    "\n",
    "for i in present:\n",
    "    students = students[(students['First']) != i]\n",
    "\n",
    "students = students.reset_index(drop=True)\n",
    "\n",
    "for i in range(len(students)):\n",
    "    \n",
    "    if students.empty == True:\n",
    "        print('No absent students')\n",
    "    \n",
    "    else:\n",
    "        bdTxt = students.First[i] + ',\\n\\n' + Message\n",
    "\n",
    "        To = students.Email[i]\n",
    "        Subject = \"Hi \" + students.First[i] + \", we missed you today\"\n",
    "        sendEmail(Subject,bdTxt,To,password)"
   ]
  }
 ],
 "metadata": {
  "kernelspec": {
   "display_name": "Python 3",
   "language": "python",
   "name": "python3"
  },
  "language_info": {
   "codemirror_mode": {
    "name": "ipython",
    "version": 3
   },
   "file_extension": ".py",
   "mimetype": "text/x-python",
   "name": "python",
   "nbconvert_exporter": "python",
   "pygments_lexer": "ipython3",
   "version": "3.7.4"
  }
 },
 "nbformat": 4,
 "nbformat_minor": 2
}
