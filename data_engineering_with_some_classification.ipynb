{
 "cells": [
  {
   "cell_type": "markdown",
   "metadata": {},
   "source": [
    "### Import videos and packages"
   ]
  },
  {
   "cell_type": "code",
   "execution_count": 58,
   "metadata": {},
   "outputs": [],
   "source": [
    "import cv2\n",
    "import numpy as np\n",
    "import pandas as pd\n",
    "import matplotlib.pyplot as plt\n",
    "\n",
    "\n",
    "import os\n",
    "import sys\n",
    "from pathlib import Path\n",
    "from PIL import Image, ImageOps\n",
    "\n",
    "# open source implementation of LBP\n",
    "from skimage.feature import local_binary_pattern\n",
    "from sklearn import preprocessing, metrics\n",
    "from sklearn.svm import LinearSVC, SVC\n",
    "\n",
    "import seaborn as sns"
   ]
  },
  {
   "cell_type": "code",
   "execution_count": 156,
   "metadata": {},
   "outputs": [],
   "source": [
    "PYTHONPATH = sys.path[0]\n",
    "PATHtrain = PYTHONPATH +'\\\\train'\n",
    "PATHtest = PYTHONPATH +'\\\\test'\n",
    "\n",
    "\n",
    "\n",
    "name = 'Kyle' ### Name of person who we are adding to train/test folders\n",
    "\n",
    "script_path = os.path.realpath(PYTHONPATH)\n",
    "new_abs_path = os.path.join(script_path, 'Current', 'Date')\n",
    "if not os.path.exists(new_abs_path):\n",
    "  os.mkdir(new_abs_path)\n",
    "\n",
    "script_path = os.path.realpath(PYTHONPATH)\n",
    "new_abs_path = os.path.join(script_path, 'train')\n",
    "if not os.path.exists(new_abs_path):\n",
    "  os.mkdir(new_abs_path)\n",
    "\n",
    "script_path = os.path.realpath(PYTHONPATH)\n",
    "new_abs_path = os.path.join(script_path, 'test')\n",
    "if not os.path.exists(new_abs_path):\n",
    "  os.mkdir(new_abs_path)\n",
    "\n",
    "script_path = os.path.realpath(PATHtrain)\n",
    "new_abs_path = os.path.join(script_path, name)\n",
    "if not os.path.exists(new_abs_path):\n",
    "  os.mkdir(new_abs_path)\n",
    "\n",
    "script_path = os.path.realpath(PATHtest)\n",
    "new_abs_path = os.path.join(script_path, name)\n",
    "if not os.path.exists(new_abs_path):\n",
    "  os.mkdir(new_abs_path)"
   ]
  },
  {
   "cell_type": "code",
   "execution_count": 158,
   "metadata": {},
   "outputs": [
    {
     "name": "stdout",
     "output_type": "stream",
     "text": [
      "I am in success\n",
      "Complete\n"
     ]
    }
   ],
   "source": [
    "PATHtrainNEW = PATHtrain + '\\\\' + name\n",
    "PATHtestNEW = PATHtest + '\\\\' + name\n",
    "\n",
    "\n",
    "vidcap = cv2.VideoCapture(name + '.mp4') ### mp4 file needs to be name.mp4 EXAMPLE kyle.mp4\n",
    "success,image = vidcap.read()\n",
    "count = 0;\n",
    "print(\"I am in success\")\n",
    "while success:\n",
    "    # Resize image\n",
    "    scale_percent = 30 # percent of original size # was 30\n",
    "    width = int(image.shape[1] * scale_percent / 100)\n",
    "    height = int(image.shape[0] * scale_percent / 100)\n",
    "    dim = (width, height)\n",
    "    resize = cv2.resize(image, dim, interpolation = cv2.INTER_AREA)\n",
    "    # Write to folder\n",
    "    if count%5 == 0:\n",
    "        cv2.imwrite(os.path.join(PATHtestNEW,\"frame%d.png\") % count, resize)\n",
    "    else:\n",
    "        cv2.imwrite(os.path.join(PATHtrainNEW,\"frame%d.png\") % count, resize)\n",
    "    success,image = vidcap.read()\n",
    "    if cv2.waitKey(10) == 27:\n",
    "        break\n",
    "    count += 1\n",
    "print(f'Complete')"
   ]
  },
  {
   "cell_type": "markdown",
   "metadata": {},
   "source": [
    "### Break videos into frames"
   ]
  },
  {
   "cell_type": "code",
   "execution_count": null,
   "metadata": {},
   "outputs": [],
   "source": [
    "#Done"
   ]
  },
  {
   "cell_type": "markdown",
   "metadata": {},
   "source": [
    "### Reduce pixels in the frames"
   ]
  },
  {
   "cell_type": "code",
   "execution_count": null,
   "metadata": {},
   "outputs": [],
   "source": [
    "#Done"
   ]
  },
  {
   "cell_type": "markdown",
   "metadata": {},
   "source": [
    "### Split frames into test/train"
   ]
  },
  {
   "cell_type": "code",
   "execution_count": 29,
   "metadata": {},
   "outputs": [],
   "source": [
    "## I manually added this"
   ]
  },
  {
   "cell_type": "markdown",
   "metadata": {},
   "source": [
    "### Trying to load this now"
   ]
  },
  {
   "cell_type": "code",
   "execution_count": 63,
   "metadata": {},
   "outputs": [],
   "source": [
    "def compute_lbp(arr):\n",
    "    \"\"\"Find LBP of all pixels.\n",
    "    Also perform Vectorization/Normalization to get feature vector.\n",
    "    \"\"\"\n",
    "    # LBP function params\n",
    "    radius = 3\n",
    "    n_points = 8 * radius\n",
    "    n_bins = n_points + 2\n",
    "    lbp = local_binary_pattern(arr, n_points, radius, 'uniform')\n",
    "    lbp = lbp.ravel()\n",
    "    # feature_len = int(lbp.max() + 1)\n",
    "    feature = np.zeros(n_bins)\n",
    "    for i in lbp:\n",
    "        feature[int(i)] += 1\n",
    "    feature /= np.linalg.norm(feature, ord=1)\n",
    "    return feature\n",
    "\n",
    "\n",
    "def load_data(tag='train'):\n",
    "    \"\"\"Load (training/test) data from the directory.\n",
    "    Also do preprocessing of extra features. \n",
    "    \"\"\"\n",
    "    tag_dir = Path.cwd() / tag\n",
    "    vec = []\n",
    "    cat = []\n",
    "    for cat_dir in tag_dir.iterdir():\n",
    "        cat_label = cat_dir.stem\n",
    "        for img_path in cat_dir.glob('*.png'):\n",
    "            img = Image.open(img_path.as_posix())\n",
    "            if img.mode != 'L':\n",
    "                img = ImageOps.grayscale(img)\n",
    "                img.save(img_path.as_posix())\n",
    "            arr = np.array(img)\n",
    "            feature = compute_lbp(arr)\n",
    "            vec.append(feature)\n",
    "            cat.append(cat_label)\n",
    "    return vec, cat\n"
   ]
  },
  {
   "cell_type": "code",
   "execution_count": 77,
   "metadata": {},
   "outputs": [],
   "source": [
    "vec_test, cat_test = load_data('test')\n",
    "vec_train, cat_train = load_data('train')"
   ]
  },
  {
   "cell_type": "markdown",
   "metadata": {},
   "source": [
    "#### List categories"
   ]
  },
  {
   "cell_type": "code",
   "execution_count": 78,
   "metadata": {},
   "outputs": [
    {
     "data": {
      "text/plain": [
       "['Jason', 'Josh', 'Kyle', 'Logan']"
      ]
     },
     "execution_count": 78,
     "metadata": {},
     "output_type": "execute_result"
    }
   ],
   "source": [
    "# get unique categories\n",
    "labels = list(np.unique(np.array(cat_test)))\n",
    "labels"
   ]
  },
  {
   "cell_type": "markdown",
   "metadata": {},
   "source": [
    "#### Begin Classification"
   ]
  },
  {
   "cell_type": "markdown",
   "metadata": {},
   "source": [
    "#### Label Encoder"
   ]
  },
  {
   "cell_type": "code",
   "execution_count": 79,
   "metadata": {},
   "outputs": [],
   "source": [
    "le = preprocessing.LabelEncoder()\n",
    "label_train = le.fit_transform(cat_train)\n",
    "label_test = le.transform(cat_test)"
   ]
  },
  {
   "cell_type": "markdown",
   "metadata": {},
   "source": [
    "### Support Vector Machine Fit"
   ]
  },
  {
   "cell_type": "code",
   "execution_count": 80,
   "metadata": {},
   "outputs": [
    {
     "data": {
      "text/plain": [
       "LinearSVC(C=1.0, class_weight=None, dual=True, fit_intercept=True,\n",
       "          intercept_scaling=1, loss='squared_hinge', max_iter=1000,\n",
       "          multi_class='ovr', penalty='l2', random_state=0, tol=1e-05,\n",
       "          verbose=0)"
      ]
     },
     "execution_count": 80,
     "metadata": {},
     "output_type": "execute_result"
    }
   ],
   "source": [
    "clf = LinearSVC(random_state=0, tol=1e-5)\n",
    "clf.fit(vec_train, label_train)"
   ]
  },
  {
   "cell_type": "markdown",
   "metadata": {},
   "source": [
    "#### First Evaluation"
   ]
  },
  {
   "cell_type": "code",
   "execution_count": 81,
   "metadata": {},
   "outputs": [
    {
     "name": "stdout",
     "output_type": "stream",
     "text": [
      "Accuracy: 97.46%\n"
     ]
    },
    {
     "data": {
      "image/png": "[encoded data removed]",
      "text/plain": [
       "<Figure size 432x288 with 2 Axes>"
      ]
     },
     "metadata": {
      "needs_background": "light"
     },
     "output_type": "display_data"
    }
   ],
   "source": [
    "# test set evaluation\n",
    "prediction = clf.predict(vec_test)\n",
    "# visualization\n",
    "cmat = metrics.confusion_matrix(prediction,label_test)\n",
    "s = sns.heatmap(cmat,annot=True,xticklabels=labels, yticklabels=labels)\n",
    "s.set(xlabel='Predicted', ylabel='Actual')\n",
    "acc = cmat.trace() / cmat.sum()\n",
    "print('Accuracy: {0:5.2f}%'.format(acc*100))"
   ]
  },
  {
   "cell_type": "markdown",
   "metadata": {},
   "source": [
    "### Non-linear Fit"
   ]
  },
  {
   "cell_type": "code",
   "execution_count": 82,
   "metadata": {},
   "outputs": [
    {
     "data": {
      "text/plain": [
       "SVC(C=1.0, cache_size=200, class_weight=None, coef0=0.0,\n",
       "    decision_function_shape='ovr', degree=3, gamma='scale', kernel='rbf',\n",
       "    max_iter=-1, probability=False, random_state=101, shrinking=True, tol=0.001,\n",
       "    verbose=False)"
      ]
     },
     "execution_count": 82,
     "metadata": {},
     "output_type": "execute_result"
    }
   ],
   "source": [
    "clf = SVC(gamma='scale', C=1.0, random_state=101)\n",
    "clf.fit(vec_train,label_train)\n",
    "#yP = svm.predict(XB)"
   ]
  },
  {
   "cell_type": "markdown",
   "metadata": {},
   "source": [
    "#### Eval 2\n"
   ]
  },
  {
   "cell_type": "code",
   "execution_count": 83,
   "metadata": {},
   "outputs": [
    {
     "name": "stdout",
     "output_type": "stream",
     "text": [
      "Accuracy: 97.83%\n"
     ]
    },
    {
     "data": {
      "image/png": "[encoded data removed]",
      "text/plain": [
       "<Figure size 432x288 with 2 Axes>"
      ]
     },
     "metadata": {
      "needs_background": "light"
     },
     "output_type": "display_data"
    }
   ],
   "source": [
    "# test set evaluation\n",
    "prediction = clf.predict(vec_test)\n",
    "# visualization\n",
    "cmat = metrics.confusion_matrix(prediction,label_test)\n",
    "s = sns.heatmap(cmat,annot=True,xticklabels=labels, yticklabels=labels)\n",
    "s.set(xlabel='Predicted', ylabel='Actual')\n",
    "acc = cmat.trace() / cmat.sum()\n",
    "print('Accuracy: {0:5.2f}%'.format(acc*100))"
   ]
  },
  {
   "cell_type": "code",
   "execution_count": null,
   "metadata": {},
   "outputs": [],
   "source": []
  },
  {
   "cell_type": "code",
   "execution_count": 108,
   "metadata": {},
   "outputs": [],
   "source": [
    "PATHcurrent = PYTHONPATH +'\\\\Current'+'\\\\Date'"
   ]
  },
  {
   "cell_type": "markdown",
   "metadata": {},
   "source": [
    "#### Code from old. Does it recognize me?"
   ]
  },
  {
   "cell_type": "code",
   "execution_count": 147,
   "metadata": {
    "scrolled": true
   },
   "outputs": [
    {
     "data": {
      "image/png": "[encoded data removed]",
      "text/plain": [
       "<Figure size 432x288 with 1 Axes>"
      ]
     },
     "metadata": {
      "needs_background": "light"
     },
     "output_type": "display_data"
    }
   ],
   "source": [
    "import cv2\n",
    "import time\n",
    "import urllib.request\n",
    "import matplotlib.pyplot as plt\n",
    "import matplotlib.patches as patches\n",
    "\n",
    "def draw_faces(data, result_list):\n",
    "    for i in range(len(result_list)):\n",
    "        x1, y1, width, height = result_list[i]\n",
    "        x2, y2 = x1 + width, y1 + height\n",
    "        #plt.subplot(1, len(result_list), i+1)\n",
    "        plt.axis('off')\n",
    "        plt.imshow(data[y1:y2, x1:x2])\n",
    "        filename = 'face%d.png'%i\n",
    "        plt.savefig(os.path.join(PATHcurrent,filename))\n",
    "        plt.show()\n",
    "\n",
    "# download cascade classifier configuration\n",
    "url = 'http://apmonitor.com/pds/uploads/Main/cascade.xml'\n",
    "urllib.request.urlretrieve(url, 'cascade.xml')\n",
    "\n",
    "faceCascade = cv2.CascadeClassifier('cascade.xml')\n",
    "video_capture = cv2.VideoCapture(0)\n",
    "\n",
    "t = time.time()\n",
    "while time.time()-t <=3: # run for max 3 sec\n",
    "\n",
    "    ret, frame = video_capture.read()\n",
    "    gray = cv2.cvtColor(frame, cv2.COLOR_BGR2GRAY)\n",
    "    faces = faceCascade.detectMultiScale(gray,scaleFactor=1.1,\n",
    "        minNeighbors=5,minSize=(30, 30))\n",
    "    for (x, y, w, h) in faces:\n",
    "        cv2.rectangle(frame, (x, y), (x+w, y+h), (255, 0, 0), 2)\n",
    "    cv2.imshow('Video', frame)\n",
    "    \n",
    "    if cv2.waitKey(1) & 0xFF == ord('q'):\n",
    "        break\n",
    "\n",
    "cv2.imwrite('image.png',frame) \n",
    "video_capture.release()\n",
    "cv2.destroyAllWindows()\n",
    "\n",
    "pixels = plt.imread('image.png')\n",
    "\n",
    "if len(faces) > 0:\n",
    "    draw_faces(pixels,faces)\n",
    "\n",
    "else:\n",
    "    print(f'No faces detected.')"
   ]
  },
  {
   "cell_type": "code",
   "execution_count": null,
   "metadata": {},
   "outputs": [],
   "source": []
  },
  {
   "cell_type": "markdown",
   "metadata": {},
   "source": [
    "##### Load"
   ]
  },
  {
   "cell_type": "code",
   "execution_count": 150,
   "metadata": {
    "scrolled": true
   },
   "outputs": [],
   "source": [
    "current,title = load_data('Current')"
   ]
  },
  {
   "cell_type": "markdown",
   "metadata": {},
   "source": [
    "##### using classifier to see who it detects"
   ]
  },
  {
   "cell_type": "code",
   "execution_count": 151,
   "metadata": {},
   "outputs": [
    {
     "data": {
      "text/plain": [
       "array([0, 0, 3], dtype=int64)"
      ]
     },
     "execution_count": 151,
     "metadata": {},
     "output_type": "execute_result"
    }
   ],
   "source": [
    "value = clf.predict(current)\n",
    "value"
   ]
  },
  {
   "cell_type": "code",
   "execution_count": null,
   "metadata": {},
   "outputs": [],
   "source": []
  },
  {
   "cell_type": "code",
   "execution_count": null,
   "metadata": {},
   "outputs": [],
   "source": []
  },
  {
   "cell_type": "code",
   "execution_count": null,
   "metadata": {},
   "outputs": [],
   "source": []
  },
  {
   "cell_type": "code",
   "execution_count": null,
   "metadata": {},
   "outputs": [],
   "source": []
  }
 ],
 "metadata": {
  "kernelspec": {
   "display_name": "Python 3",
   "language": "python",
   "name": "python3"
  },
  "language_info": {
   "codemirror_mode": {
    "name": "ipython",
    "version": 3
   },
   "file_extension": ".py",
   "mimetype": "text/x-python",
   "name": "python",
   "nbconvert_exporter": "python",
   "pygments_lexer": "ipython3",
   "version": "3.7.3"
  }
 },
 "nbformat": 4,
 "nbformat_minor": 5
}
